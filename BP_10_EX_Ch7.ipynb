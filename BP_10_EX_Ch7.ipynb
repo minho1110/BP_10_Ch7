{
  "nbformat": 4,
  "nbformat_minor": 0,
  "metadata": {
    "colab": {
      "provenance": [],
      "authorship_tag": "ABX9TyNBr1KlMyScSGVkBJjtEdKv",
      "include_colab_link": true
    },
    "kernelspec": {
      "name": "python3",
      "display_name": "Python 3"
    },
    "language_info": {
      "name": "python"
    }
  },
  "cells": [
    {
      "cell_type": "markdown",
      "metadata": {
        "id": "view-in-github",
        "colab_type": "text"
      },
      "source": [
        "<a href=\"https://colab.research.google.com/github/minho1110/BP_10_Ch7/blob/main/BP_10_EX_Ch7.ipynb\" target=\"_parent\"><img src=\"https://colab.research.google.com/assets/colab-badge.svg\" alt=\"Open In Colab\"/></a>"
      ]
    },
    {
      "cell_type": "code",
      "execution_count": null,
      "metadata": {
        "id": "fZh69OEfQVOZ"
      },
      "outputs": [],
      "source": [
        "def draw_snowman(x, y):\n",
        " \n",
        "#눈사람 1단   \n",
        "    t.up()\n",
        "    t.goto(x,y+110)\n",
        "    t.down()\n",
        " \n",
        "    t.begin_fill()\n",
        "    t.circle(35)\n",
        "    t.end_fill()\n",
        " \n",
        "#눈사람 2단\n",
        "    t.up()\n",
        "    t.goto(x,y+80)\n",
        "    t.down()\n",
        " \n",
        "    t.lt(20)\n",
        "    t.fd(90); t.fd(-90)\n",
        "    t.lt(115)\n",
        "    t.fd(90); t.fd(-90)\n",
        "    t.seth(0)\n",
        " \n",
        "    t.begin_fill()\n",
        "    t.circle(25)\n",
        "    t.end_fill()\n",
        "     \n",
        "#눈사람 3단\n",
        "    t.up()\n",
        "    t.goto(x,y)\n",
        "    t.down()\n",
        " \n",
        "    t.begin_fill()\n",
        "    t.circle(50)\n",
        "    t.end_fill()\n",
        " \n",
        " \n",
        "\n",
        "# main\n",
        "import turtle\n",
        "t = turtle.Turtle()\n",
        "s = turtle.Screen()\n",
        " \n",
        "t.color('black', 'white')\n",
        "s.bgcolor('skyblue')\n",
        " \n",
        "for i in range(3):\n",
        "    draw_snowman(200*i-200,0)\n",
        "\n",
        "\n",
        "\n"
      ]
    },
    {
      "cell_type": "code",
      "source": [
        "def draw_hexa():\n",
        "    for i in range(6):\n",
        "        t.fd(50)\n",
        "        t.rt(60)\n",
        " \n",
        "#main     \n",
        "import turtle\n",
        "t = turtle.Turtle()\n",
        "t.shape(\"turtle\")\n",
        "\n",
        "for i in range(6):\n",
        "    t.fd(50)\n",
        "    t.lt(60)\n",
        "    draw_hexa()"
      ],
      "metadata": {
        "id": "unuEzgkoQ-h0"
      },
      "execution_count": null,
      "outputs": []
    },
    {
      "cell_type": "code",
      "source": [
        "def draw_f():\n",
        "    for i in range(150):\n",
        "        t.goto(i,(i**2+1)*0.01)\n",
        " \n",
        " \n",
        "#main \n",
        "import turtle\n",
        "t = turtle.Turtle()\n",
        "t.shape(\"turtle\")\n",
        "\n",
        "# X선 \n",
        "t.fd(250)\n",
        "t.fd(-250)\n",
        "t.lt(90)\n",
        " \n",
        "# Y선\n",
        "t.fd(250)\n",
        "t.fd(-250)\n",
        "t.rt(90)\n",
        " \n",
        "draw_f()"
      ],
      "metadata": {
        "id": "zv9KeUaiRKkq"
      },
      "execution_count": null,
      "outputs": []
    },
    {
      "cell_type": "code",
      "source": [
        "def draw_line():\n",
        "    t.fd(100)\n",
        "    t.fd(-100)\n",
        "\n",
        "#main\n",
        "import turtle\n",
        "t = turtle.Turtle()\n",
        "t.shape(\"turtle\")\n",
        "\n",
        "for i in range(12):\n",
        "    draw_line()\n",
        "    t.lt(30)"
      ],
      "metadata": {
        "id": "-5krkDJBRNJy"
      },
      "execution_count": null,
      "outputs": []
    },
    {
      "cell_type": "code",
      "source": [
        "def happyBirthday(person):\n",
        "    print(\"=====================\")\n",
        "    print(\"Happy Birthday to you!\")\n",
        "    print(\"Happy Birthday to you!\")\n",
        "    print(\"Happy Birthday, dear \" + person)\n",
        "    print(\"Happy Birthday to you!\")\n",
        " \n",
        "happyBirthday(\"홍길동\")"
      ],
      "metadata": {
        "colab": {
          "base_uri": "https://localhost:8080/"
        },
        "id": "zjyxEXEvRUmf",
        "outputId": "ba74ef11-a32a-4a26-bd55-e766b7e140ea"
      },
      "execution_count": null,
      "outputs": [
        {
          "output_type": "stream",
          "name": "stdout",
          "text": [
            "=====================\n",
            "Happy Birthday to you!\n",
            "Happy Birthday to you!\n",
            "Happy Birthday, dear 홍길동\n",
            "Happy Birthday to you!\n"
          ]
        }
      ]
    },
    {
      "cell_type": "code",
      "source": [
        "def MathQ():\n",
        "    a = int(input(\"첫 번째 정수: \"))\n",
        "    b = int(input(\"두 번째 정수: \"))\n",
        "    print(\"정수 %d+%d의 합은? \" %(a, b))\n",
        " \n",
        "MathQ()"
      ],
      "metadata": {
        "id": "y6IEC0noV1sC"
      },
      "execution_count": null,
      "outputs": []
    },
    {
      "cell_type": "code",
      "source": [
        "PI = 3.14159265358979\n",
        " \n",
        "def circleArea(radius):\n",
        "    return PI*radius*radius\n",
        " \n",
        "def circleCircumference(radius):\n",
        "    return PI*2*radius\n",
        " \n",
        "print(\"반지름이 5인 원의 면적 : \", circleArea(5))\n",
        "print(\"반지름이 5인 원의 둘레 : \", circleCircumference(5))\n",
        "\n"
      ],
      "metadata": {
        "id": "rA5RG_lIWOOs",
        "colab": {
          "base_uri": "https://localhost:8080/"
        },
        "outputId": "ddac1e0c-1ac2-4952-e075-51ff981067c5"
      },
      "execution_count": 3,
      "outputs": [
        {
          "output_type": "stream",
          "name": "stdout",
          "text": [
            "반지름이 5인 원의 면적 :  78.53981633974475\n",
            "반지름이 5인 원의 둘레 :  31.4159265358979\n"
          ]
        }
      ]
    },
    {
      "cell_type": "code",
      "source": [
        "def add(a,b):\n",
        "    return a+b\n",
        " \n",
        "def sub(a,b):\n",
        "    return a-b\n",
        " \n",
        "def mul(a,b):\n",
        "    return a*b\n",
        " \n",
        "def div(a,b):\n",
        "    return a/b\n",
        " \n",
        " \n",
        "#main \n",
        "a = int(input(\"첫 번째 정수: \"))\n",
        "b = int(input(\"두 번째 정수: \"))\n",
        " \n",
        "print(\"==================\")\n",
        "print(\"(%d + %d) = %d\" %(a,b,add(a,b)))\n",
        "print(\"(%d - %d) = %d\" %(a,b,sub(a,b)))\n",
        "print(\"(%d * %d) = %d\" %(a,b,mul(a,b)))\n",
        "print(\"(%d / %d) = %d\" %(a,b,div(a,b)))\n"
      ],
      "metadata": {
        "colab": {
          "base_uri": "https://localhost:8080/"
        },
        "id": "VqJQnWIqWm27",
        "outputId": "1dbb7839-348d-424c-a26e-97f4add7629a"
      },
      "execution_count": 5,
      "outputs": [
        {
          "output_type": "stream",
          "name": "stdout",
          "text": [
            "첫 번째 정수: 20\n",
            "두 번째 정수: 10\n",
            "==================\n",
            "(20 + 10) = 30\n",
            "(20 - 10) = 10\n",
            "(20 * 10) = 200\n",
            "(20 / 10) = 2\n"
          ]
        }
      ]
    }
  ]
}